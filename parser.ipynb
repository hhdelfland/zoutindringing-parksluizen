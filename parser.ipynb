{
 "cells": [
  {
   "cell_type": "code",
   "execution_count": 64,
   "metadata": {},
   "outputs": [],
   "source": [
    "import pandas as pd\n",
    "import matplotlib\n",
    "import plotly\n",
    "import tkinter\n",
    "import os\n",
    "import numpy as np\n",
    "import seaborn\n",
    "import plotly.express\n",
    "import kaleido"
   ]
  },
  {
   "cell_type": "code",
   "execution_count": 65,
   "metadata": {},
   "outputs": [
    {
     "name": "stdout",
     "output_type": "stream",
     "text": [
      "C:\\Teams\\Hoogheemraadschap van Delfland\\Programma DigiTrans - Zoutindringing/\n"
     ]
    }
   ],
   "source": [
    "with open('teams_path') as f:\n",
    "    lines = f.readlines()\n",
    "teams_path = lines[0] + '/'\n",
    "print(teams_path)"
   ]
  },
  {
   "cell_type": "code",
   "execution_count": 66,
   "metadata": {},
   "outputs": [],
   "source": [
    "save_TS_plots = True\n",
    "save_violin_plots = True\n",
    "save_quantile_plots = False\n",
    "locatie = 'schiegemaal'\n",
    "#pd.options.plotting.backend = \"plotly\"\n",
    "pd.options.plotting.backend = \"matplotlib\""
   ]
  },
  {
   "cell_type": "code",
   "execution_count": 67,
   "metadata": {},
   "outputs": [],
   "source": [
    "\n",
    "df = pd.read_table(teams_path + 'telecontrol/'+locatie+'.csv',delimiter = '\\t')\n",
    "numeric_cols = df.columns[2:]\n",
    "df[numeric_cols] = df[numeric_cols].stack().str.replace(',','.').unstack()\n",
    "df.head()\n",
    "df.drop(df.tail(5).index,inplace = True)\n",
    "df['datetime'] = pd.to_datetime(df['Datum'] + ' ' + df['Tijd (Europe/Amsterdam)'])\n",
    "df[numeric_cols] = df[numeric_cols].apply(pd.to_numeric, errors='coerce')\n",
    "\n",
    "#df['OW000-008/WNS7670 - gemeten waarde [mS/cm]'] = pd.to_numeric(df['OW000-008/WNS7670 - gemeten waarde [mS/cm]'],errors='coerce')\n",
    "df.head()\n",
    "df = df.set_index('Datum')\n",
    "df[numeric_cols] = np.where(df[numeric_cols]>=100 , np.nan, df[numeric_cols])\n",
    "df['maand'] = df['datetime'].dt.strftime('%b')\n"
   ]
  },
  {
   "cell_type": "code",
   "execution_count": 69,
   "metadata": {},
   "outputs": [
    {
     "ename": "ValueError",
     "evalue": "\nImage export using the \"kaleido\" engine requires the kaleido package,\nwhich can be installed using pip:\n    $ pip install -U kaleido\n",
     "output_type": "error",
     "traceback": [
      "\u001b[1;31m---------------------------------------------------------------------------\u001b[0m",
      "\u001b[1;31mValueError\u001b[0m                                Traceback (most recent call last)",
      "\u001b[1;32mc:\\zoutindringing-parksluizen\\zoutindringing-parksluizen-1\\parser.ipynb Cell 5'\u001b[0m in \u001b[0;36m<cell line: 6>\u001b[1;34m()\u001b[0m\n\u001b[0;32m     <a href='vscode-notebook-cell:/c%3A/zoutindringing-parksluizen/zoutindringing-parksluizen-1/parser.ipynb#ch0000003?line=25'>26</a>\u001b[0m       plot_int \u001b[39m=\u001b[39m plotly\u001b[39m.\u001b[39mtools\u001b[39m.\u001b[39mmpl_to_plotly(plot)\n\u001b[0;32m     <a href='vscode-notebook-cell:/c%3A/zoutindringing-parksluizen/zoutindringing-parksluizen-1/parser.ipynb#ch0000003?line=26'>27</a>\u001b[0m       plot_int\u001b[39m.\u001b[39mwrite_html(teams_path\u001b[39m+\u001b[39m\u001b[39m\"\u001b[39m\u001b[39mplots/\u001b[39m\u001b[39m\"\u001b[39m \u001b[39m+\u001b[39m locatie \u001b[39m+\u001b[39m \u001b[39m'\u001b[39m\u001b[39m/\u001b[39m\u001b[39m'\u001b[39m \u001b[39m+\u001b[39m locatie \u001b[39m+\u001b[39m subset[\u001b[39m0\u001b[39m] \u001b[39m+\u001b[39m \u001b[39m'\u001b[39m\u001b[39m_\u001b[39m\u001b[39m'\u001b[39m \u001b[39m+\u001b[39m subset[\u001b[39m1\u001b[39m] \u001b[39m+\u001b[39m \u001b[39m\"\u001b[39m\u001b[39m.html\u001b[39m\u001b[39m\"\u001b[39m)\n\u001b[1;32m---> <a href='vscode-notebook-cell:/c%3A/zoutindringing-parksluizen/zoutindringing-parksluizen-1/parser.ipynb#ch0000003?line=27'>28</a>\u001b[0m       plot_int\u001b[39m.\u001b[39;49mwrite_image(teams_path\u001b[39m+\u001b[39;49m\u001b[39m\"\u001b[39;49m\u001b[39mplots/\u001b[39;49m\u001b[39m\"\u001b[39;49m \u001b[39m+\u001b[39;49m locatie \u001b[39m+\u001b[39;49m \u001b[39m'\u001b[39;49m\u001b[39m/\u001b[39;49m\u001b[39m'\u001b[39;49m \u001b[39m+\u001b[39;49m locatie \u001b[39m+\u001b[39;49m subset[\u001b[39m0\u001b[39;49m] \u001b[39m+\u001b[39;49m \u001b[39m'\u001b[39;49m\u001b[39m_\u001b[39;49m\u001b[39m'\u001b[39;49m \u001b[39m+\u001b[39;49m subset[\u001b[39m1\u001b[39;49m] \u001b[39m+\u001b[39;49m \u001b[39m\"\u001b[39;49m\u001b[39m.png\u001b[39;49m\u001b[39m\"\u001b[39;49m,\u001b[39mformat\u001b[39;49m \u001b[39m=\u001b[39;49m \u001b[39m'\u001b[39;49m\u001b[39mpng\u001b[39;49m\u001b[39m'\u001b[39;49m)\n\u001b[0;32m     <a href='vscode-notebook-cell:/c%3A/zoutindringing-parksluizen/zoutindringing-parksluizen-1/parser.ipynb#ch0000003?line=30'>31</a>\u001b[0m \u001b[39mif\u001b[39;00m save_violin_plots:\n\u001b[0;32m     <a href='vscode-notebook-cell:/c%3A/zoutindringing-parksluizen/zoutindringing-parksluizen-1/parser.ipynb#ch0000003?line=31'>32</a>\u001b[0m   plot2 \u001b[39m=\u001b[39m plotly\u001b[39m.\u001b[39mexpress\u001b[39m.\u001b[39mviolin(df,x \u001b[39m=\u001b[39m \u001b[39m'\u001b[39m\u001b[39mmaand\u001b[39m\u001b[39m'\u001b[39m, y \u001b[39m=\u001b[39m numeric_cols[\u001b[39m1\u001b[39m],points\u001b[39m=\u001b[39m\u001b[39mFalse\u001b[39;00m,title\u001b[39m=\u001b[39m\u001b[39m'\u001b[39m\u001b[39mEGV verdeling per maand op locatie: \u001b[39m\u001b[39m'\u001b[39m \u001b[39m+\u001b[39m locatie, labels\u001b[39m=\u001b[39m {numeric_cols[\u001b[39m1\u001b[39m] : \u001b[39m'\u001b[39m\u001b[39mEGV (mS/cm)\u001b[39m\u001b[39m'\u001b[39m},\n\u001b[0;32m     <a href='vscode-notebook-cell:/c%3A/zoutindringing-parksluizen/zoutindringing-parksluizen-1/parser.ipynb#ch0000003?line=32'>33</a>\u001b[0m   category_orders\u001b[39m=\u001b[39m{\u001b[39m\"\u001b[39m\u001b[39mmaand\u001b[39m\u001b[39m\"\u001b[39m: [\u001b[39m\"\u001b[39m\u001b[39mJan\u001b[39m\u001b[39m\"\u001b[39m, \u001b[39m\"\u001b[39m\u001b[39mFeb\u001b[39m\u001b[39m\"\u001b[39m, \u001b[39m\"\u001b[39m\u001b[39mMar\u001b[39m\u001b[39m\"\u001b[39m, \u001b[39m\"\u001b[39m\u001b[39mApr\u001b[39m\u001b[39m\"\u001b[39m, \u001b[39m\"\u001b[39m\u001b[39mMay\u001b[39m\u001b[39m\"\u001b[39m, \u001b[39m\"\u001b[39m\u001b[39mJun\u001b[39m\u001b[39m\"\u001b[39m, \u001b[39m\"\u001b[39m\u001b[39mJul\u001b[39m\u001b[39m\"\u001b[39m, \u001b[39m\"\u001b[39m\u001b[39mAug\u001b[39m\u001b[39m\"\u001b[39m, \u001b[39m\"\u001b[39m\u001b[39mSep\u001b[39m\u001b[39m\"\u001b[39m, \u001b[39m\"\u001b[39m\u001b[39mOct\u001b[39m\u001b[39m\"\u001b[39m, \u001b[39m\"\u001b[39m\u001b[39mNov\u001b[39m\u001b[39m\"\u001b[39m, \u001b[39m\"\u001b[39m\u001b[39mDec\u001b[39m\u001b[39m\"\u001b[39m]})\n",
      "File \u001b[1;32mc:\\Users\\ds_sboeschoten\\AppData\\Local\\Programs\\Python\\Python310\\lib\\site-packages\\plotly\\basedatatypes.py:3829\u001b[0m, in \u001b[0;36mBaseFigure.write_image\u001b[1;34m(self, *args, **kwargs)\u001b[0m\n\u001b[0;32m   3769\u001b[0m \u001b[39m\"\"\"\u001b[39;00m\n\u001b[0;32m   3770\u001b[0m \u001b[39mConvert a figure to a static image and write it to a file or writeable\u001b[39;00m\n\u001b[0;32m   3771\u001b[0m \u001b[39mobject\u001b[39;00m\n\u001b[1;32m   (...)\u001b[0m\n\u001b[0;32m   3825\u001b[0m \u001b[39mNone\u001b[39;00m\n\u001b[0;32m   3826\u001b[0m \u001b[39m\"\"\"\u001b[39;00m\n\u001b[0;32m   3827\u001b[0m \u001b[39mimport\u001b[39;00m \u001b[39mplotly\u001b[39;00m\u001b[39m.\u001b[39;00m\u001b[39mio\u001b[39;00m \u001b[39mas\u001b[39;00m \u001b[39mpio\u001b[39;00m\n\u001b[1;32m-> 3829\u001b[0m \u001b[39mreturn\u001b[39;00m pio\u001b[39m.\u001b[39mwrite_image(\u001b[39mself\u001b[39m, \u001b[39m*\u001b[39margs, \u001b[39m*\u001b[39m\u001b[39m*\u001b[39mkwargs)\n",
      "File \u001b[1;32mc:\\Users\\ds_sboeschoten\\AppData\\Local\\Programs\\Python\\Python310\\lib\\site-packages\\plotly\\io\\_kaleido.py:267\u001b[0m, in \u001b[0;36mwrite_image\u001b[1;34m(fig, file, format, scale, width, height, validate, engine)\u001b[0m\n\u001b[0;32m    251\u001b[0m             \u001b[39mraise\u001b[39;00m \u001b[39mValueError\u001b[39;00m(\n\u001b[0;32m    252\u001b[0m                 \u001b[39m\"\"\"\u001b[39;00m\n\u001b[0;32m    253\u001b[0m \u001b[39mCannot infer image type from output path '{file}'.\u001b[39;00m\n\u001b[1;32m   (...)\u001b[0m\n\u001b[0;32m    261\u001b[0m                 )\n\u001b[0;32m    262\u001b[0m             )\n\u001b[0;32m    264\u001b[0m     \u001b[39m# Request image\u001b[39;00m\n\u001b[0;32m    265\u001b[0m     \u001b[39m# -------------\u001b[39;00m\n\u001b[0;32m    266\u001b[0m     \u001b[39m# Do this first so we don't create a file if image conversion fails\u001b[39;00m\n\u001b[1;32m--> 267\u001b[0m     img_data \u001b[39m=\u001b[39m to_image(\n\u001b[0;32m    268\u001b[0m         fig,\n\u001b[0;32m    269\u001b[0m         \u001b[39mformat\u001b[39;49m\u001b[39m=\u001b[39;49m\u001b[39mformat\u001b[39;49m,\n\u001b[0;32m    270\u001b[0m         scale\u001b[39m=\u001b[39;49mscale,\n\u001b[0;32m    271\u001b[0m         width\u001b[39m=\u001b[39;49mwidth,\n\u001b[0;32m    272\u001b[0m         height\u001b[39m=\u001b[39;49mheight,\n\u001b[0;32m    273\u001b[0m         validate\u001b[39m=\u001b[39;49mvalidate,\n\u001b[0;32m    274\u001b[0m         engine\u001b[39m=\u001b[39;49mengine,\n\u001b[0;32m    275\u001b[0m     )\n\u001b[0;32m    277\u001b[0m     \u001b[39m# Open file\u001b[39;00m\n\u001b[0;32m    278\u001b[0m     \u001b[39m# ---------\u001b[39;00m\n\u001b[0;32m    279\u001b[0m     \u001b[39mif\u001b[39;00m path \u001b[39mis\u001b[39;00m \u001b[39mNone\u001b[39;00m:\n\u001b[0;32m    280\u001b[0m         \u001b[39m# We previously failed to make sense of `file` as a pathlib object.\u001b[39;00m\n\u001b[0;32m    281\u001b[0m         \u001b[39m# Attempt to write to `file` as an open file descriptor.\u001b[39;00m\n",
      "File \u001b[1;32mc:\\Users\\ds_sboeschoten\\AppData\\Local\\Programs\\Python\\Python310\\lib\\site-packages\\plotly\\io\\_kaleido.py:133\u001b[0m, in \u001b[0;36mto_image\u001b[1;34m(fig, format, width, height, scale, validate, engine)\u001b[0m\n\u001b[0;32m    131\u001b[0m     \u001b[39m# Raise informative error message if Kaleido is not installed\u001b[39;00m\n\u001b[0;32m    132\u001b[0m     \u001b[39mif\u001b[39;00m scope \u001b[39mis\u001b[39;00m \u001b[39mNone\u001b[39;00m:\n\u001b[1;32m--> 133\u001b[0m         \u001b[39mraise\u001b[39;00m \u001b[39mValueError\u001b[39;00m(\n\u001b[0;32m    134\u001b[0m             \u001b[39m\"\"\"\u001b[39;00m\n\u001b[0;32m    135\u001b[0m \u001b[39mImage export using the \"kaleido\" engine requires the kaleido package,\u001b[39;00m\n\u001b[0;32m    136\u001b[0m \u001b[39mwhich can be installed using pip:\u001b[39;00m\n\u001b[0;32m    137\u001b[0m \u001b[39m    $ pip install -U kaleido\u001b[39;00m\n\u001b[0;32m    138\u001b[0m \u001b[39m\"\"\"\u001b[39;00m\n\u001b[0;32m    139\u001b[0m         )\n\u001b[0;32m    141\u001b[0m     \u001b[39m# Validate figure\u001b[39;00m\n\u001b[0;32m    142\u001b[0m     \u001b[39m# ---------------\u001b[39;00m\n\u001b[0;32m    143\u001b[0m     fig_dict \u001b[39m=\u001b[39m validate_coerce_fig_to_dict(fig, validate)\n",
      "\u001b[1;31mValueError\u001b[0m: \nImage export using the \"kaleido\" engine requires the kaleido package,\nwhich can be installed using pip:\n    $ pip install -U kaleido\n"
     ]
    }
   ],
   "source": [
    "%%capture\n",
    "isExist = os.path.exists(teams_path+'plots/' + locatie)\n",
    "if not isExist:\n",
    "  os.makedirs(teams_path+'plots/' + locatie)\n",
    "\n",
    "\n",
    "if save_TS_plots:\n",
    "  root = tkinter.Tk()\n",
    "  my_dpi = root.winfo_fpixels('1i')\n",
    "\n",
    "  subsets =  (['2015-01-01','2015-31-12'], ['2016-01-01','2016-31-12'], ['2017-01-01','2017-31-12'], ['2018-01-01','2018-31-12'],\n",
    "              ['2019-01-01','2019-31-12'], ['2020-01-01','2020-31-12'], ['2021-01-01','2021-31-12'], ['2022-01-01','2022-31-12'],\n",
    "              ['2015-01-01','2022-31-12']\n",
    "              )\n",
    "\n",
    "\n",
    "  for subset in subsets:\n",
    "  #subset = ['2015-01-01','2015-31-12']\n",
    "      plot1 = df.loc[subset[0]:subset[1]].plot('datetime', df.columns[2],figsize=(1920/my_dpi, 1080/my_dpi))\n",
    "      axes= plot1.xaxis\n",
    "      axes.set_major_locator(matplotlib.dates.MonthLocator(interval=1))\n",
    "      axes.get_major_ticks()[-1].label1.set_visible(False)\n",
    "      plot1.set_xlabel('Datum')\n",
    "      plot1.set_ylabel('EGV')\n",
    "      plot1.set_title('Van ' + subset[0] + ' t/m ' + subset[1] + '\\n Locatie: ' + locatie)\n",
    "      plot = plot1.figure\n",
    "      plot_int = plotly.tools.mpl_to_plotly(plot)\n",
    "      plot_int.write_html(teams_path+\"plots/\" + locatie + '/' + locatie + subset[0] + '_' + subset[1] + \".html\")\n",
    "      plotly.offline.iplot(plot_int,filename= teams_path+\"plots/\" + locatie + '/' + locatie + subset[0] + '_' + subset[1] + \".png\")\n",
    "\n",
    "\n",
    "if save_violin_plots:\n",
    "  plot2 = plotly.express.violin(df,x = 'maand', y = numeric_cols[1],points=False,title='EGV verdeling per maand op locatie: ' + locatie, labels= {numeric_cols[1] : 'EGV (mS/cm)'},\n",
    "  category_orders={\"maand\": [\"Jan\", \"Feb\", \"Mar\", \"Apr\", \"May\", \"Jun\", \"Jul\", \"Aug\", \"Sep\", \"Oct\", \"Nov\", \"Dec\"]})\n",
    "  #plot2.set_ylabel('EGV (mS/cm')\n",
    "  #plot2.show()\n",
    "  #plot2 = plot2.figure\n",
    "  #plot_int = plotly.tools.mpl_to_plotly(plot2)\n",
    "  plot2.write_html(teams_path+\"plots/\" + locatie + '/' + locatie + \"_violin.html\")\n",
    "  plotly.offline.iplot(plot_int,filename= teams_path+\"plots/\" + locatie + '/' + locatie + \"_violin.png\")\n",
    "#if save_quantile_plots:\n",
    "  "
   ]
  },
  {
   "cell_type": "code",
   "execution_count": null,
   "metadata": {},
   "outputs": [
    {
     "name": "stderr",
     "output_type": "stream",
     "text": [
      "C:\\Users\\ds_sboeschoten\\AppData\\Local\\Temp\\3\\ipykernel_7676\\3088433796.py:1: FutureWarning:\n",
      "\n",
      "Dropping invalid columns in DataFrameGroupBy.quantile is deprecated. In a future version, a TypeError will be raised. Before calling .quantile, select only columns which should be valid for the function.\n",
      "\n"
     ]
    },
    {
     "data": {
      "text/html": [
       "<div>\n",
       "<style scoped>\n",
       "    .dataframe tbody tr th:only-of-type {\n",
       "        vertical-align: middle;\n",
       "    }\n",
       "\n",
       "    .dataframe tbody tr th {\n",
       "        vertical-align: top;\n",
       "    }\n",
       "\n",
       "    .dataframe thead th {\n",
       "        text-align: right;\n",
       "    }\n",
       "</style>\n",
       "<table border=\"1\" class=\"dataframe\">\n",
       "  <thead>\n",
       "    <tr style=\"text-align: right;\">\n",
       "      <th></th>\n",
       "      <th></th>\n",
       "      <th>OW000-014/WNS3838 - gemeten waarde [°C]</th>\n",
       "      <th>OW000-014/WNS7670 - gemeten waarde [mS/cm]</th>\n",
       "      <th>datetime</th>\n",
       "    </tr>\n",
       "    <tr>\n",
       "      <th>maand</th>\n",
       "      <th></th>\n",
       "      <th></th>\n",
       "      <th></th>\n",
       "      <th></th>\n",
       "    </tr>\n",
       "  </thead>\n",
       "  <tbody>\n",
       "    <tr>\n",
       "      <th rowspan=\"5\" valign=\"top\">Apr</th>\n",
       "      <th>0.1</th>\n",
       "      <td>7.9</td>\n",
       "      <td>1.2580</td>\n",
       "      <td>2017-04-25 14:23:06</td>\n",
       "    </tr>\n",
       "    <tr>\n",
       "      <th>0.2</th>\n",
       "      <td>8.4</td>\n",
       "      <td>1.4520</td>\n",
       "      <td>2018-04-10 16:14:00</td>\n",
       "    </tr>\n",
       "    <tr>\n",
       "      <th>0.3</th>\n",
       "      <td>9.3</td>\n",
       "      <td>1.5340</td>\n",
       "      <td>2018-04-25 19:12:18</td>\n",
       "    </tr>\n",
       "    <tr>\n",
       "      <th>0.4</th>\n",
       "      <td>10.3</td>\n",
       "      <td>1.6800</td>\n",
       "      <td>2019-04-29 11:50:24</td>\n",
       "    </tr>\n",
       "    <tr>\n",
       "      <th>0.5</th>\n",
       "      <td>11.4</td>\n",
       "      <td>1.9050</td>\n",
       "      <td>2020-04-13 22:05:30</td>\n",
       "    </tr>\n",
       "    <tr>\n",
       "      <th>...</th>\n",
       "      <th>...</th>\n",
       "      <td>...</td>\n",
       "      <td>...</td>\n",
       "      <td>...</td>\n",
       "    </tr>\n",
       "    <tr>\n",
       "      <th rowspan=\"5\" valign=\"top\">Sep</th>\n",
       "      <th>0.5</th>\n",
       "      <td>17.9</td>\n",
       "      <td>4.2000</td>\n",
       "      <td>2019-09-10 12:32:00</td>\n",
       "    </tr>\n",
       "    <tr>\n",
       "      <th>0.6</th>\n",
       "      <td>18.2</td>\n",
       "      <td>4.5940</td>\n",
       "      <td>2019-09-24 05:09:00</td>\n",
       "    </tr>\n",
       "    <tr>\n",
       "      <th>0.7</th>\n",
       "      <td>18.4</td>\n",
       "      <td>4.9850</td>\n",
       "      <td>2020-09-07 17:20:30</td>\n",
       "    </tr>\n",
       "    <tr>\n",
       "      <th>0.8</th>\n",
       "      <td>18.8</td>\n",
       "      <td>5.5710</td>\n",
       "      <td>2020-09-21 09:32:00</td>\n",
       "    </tr>\n",
       "    <tr>\n",
       "      <th>0.9</th>\n",
       "      <td>19.6</td>\n",
       "      <td>6.3223</td>\n",
       "      <td>2021-09-04 21:24:30</td>\n",
       "    </tr>\n",
       "  </tbody>\n",
       "</table>\n",
       "<p>108 rows × 3 columns</p>\n",
       "</div>"
      ],
      "text/plain": [
       "           OW000-014/WNS3838 - gemeten waarde [°C]  \\\n",
       "maand                                                \n",
       "Apr   0.1                                      7.9   \n",
       "      0.2                                      8.4   \n",
       "      0.3                                      9.3   \n",
       "      0.4                                     10.3   \n",
       "      0.5                                     11.4   \n",
       "...                                            ...   \n",
       "Sep   0.5                                     17.9   \n",
       "      0.6                                     18.2   \n",
       "      0.7                                     18.4   \n",
       "      0.8                                     18.8   \n",
       "      0.9                                     19.6   \n",
       "\n",
       "           OW000-014/WNS7670 - gemeten waarde [mS/cm]            datetime  \n",
       "maand                                                                      \n",
       "Apr   0.1                                      1.2580 2017-04-25 14:23:06  \n",
       "      0.2                                      1.4520 2018-04-10 16:14:00  \n",
       "      0.3                                      1.5340 2018-04-25 19:12:18  \n",
       "      0.4                                      1.6800 2019-04-29 11:50:24  \n",
       "      0.5                                      1.9050 2020-04-13 22:05:30  \n",
       "...                                               ...                 ...  \n",
       "Sep   0.5                                      4.2000 2019-09-10 12:32:00  \n",
       "      0.6                                      4.5940 2019-09-24 05:09:00  \n",
       "      0.7                                      4.9850 2020-09-07 17:20:30  \n",
       "      0.8                                      5.5710 2020-09-21 09:32:00  \n",
       "      0.9                                      6.3223 2021-09-04 21:24:30  \n",
       "\n",
       "[108 rows x 3 columns]"
      ]
     },
     "execution_count": 31,
     "metadata": {},
     "output_type": "execute_result"
    }
   ],
   "source": [
    "\n",
    "df.groupby('maand').quantile([0.10,0.20,0.30,0.40,0.50,0.60,0.70,0.80,0.90])"
   ]
  }
 ],
 "metadata": {
  "kernelspec": {
   "display_name": "Python 3.10.5 64-bit",
   "language": "python",
   "name": "python3"
  },
  "language_info": {
   "codemirror_mode": {
    "name": "ipython",
    "version": 3
   },
   "file_extension": ".py",
   "mimetype": "text/x-python",
   "name": "python",
   "nbconvert_exporter": "python",
   "pygments_lexer": "ipython3",
   "version": "3.10.5"
  },
  "orig_nbformat": 4,
  "vscode": {
   "interpreter": {
    "hash": "12f47005bf384ee98487836f47d3e12765f597e6a81d8ce4807a0a0b6c5424c6"
   }
  }
 },
 "nbformat": 4,
 "nbformat_minor": 2
}
